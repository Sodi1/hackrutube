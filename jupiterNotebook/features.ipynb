{
 "cells": [
  {
   "cell_type": "code",
   "execution_count": null,
   "id": "ae97f8dc",
   "metadata": {},
   "outputs": [],
   "source": [
    "import pandas as pd"
   ]
  },
  {
   "cell_type": "code",
   "execution_count": null,
   "id": "e21bbdef",
   "metadata": {},
   "outputs": [],
   "source": [
    "import pyarrow.parquet as pq\n",
    "\n",
    "# Path to your Parquet file\n",
    "file_path = 'features.parquet'\n",
    "\n",
    "# Use the ParquetFile class to open the file\n",
    "parquet_file = pq.ParquetFile(file_path)\n",
    "\n",
    "# Get the metadata information like column names, data types, etc.\n",
    "metadata = parquet_file.metadata"
   ]
  },
  {
   "cell_type": "code",
   "execution_count": null,
   "id": "ba827e75",
   "metadata": {},
   "outputs": [],
   "source": [
    "data = parquet_file.read(use_pandas_metadata=True).to_pandas()"
   ]
  },
  {
   "cell_type": "code",
   "execution_count": null,
   "id": "7258adf0",
   "metadata": {},
   "outputs": [],
   "source": [
    "features = data"
   ]
  },
  {
   "cell_type": "code",
   "execution_count": null,
   "id": "e9aacd28",
   "metadata": {},
   "outputs": [],
   "source": [
    "features.columns"
   ]
  },
  {
   "cell_type": "code",
   "execution_count": null,
   "id": "d82521bb",
   "metadata": {},
   "outputs": [],
   "source": [
    "# Path to your Parquet file\n",
    "file_path = 'videos.parquet'\n",
    "\n",
    "# Use the ParquetFile class to open the file\n",
    "parquet_file = pq.ParquetFile(file_path)\n",
    "\n",
    "# Get the metadata information like column names, data types, etc.\n",
    "metadata = parquet_file.metadata\n",
    "videos = parquet_file.read(use_pandas_metadata=True).to_pandas()"
   ]
  },
  {
   "cell_type": "code",
   "execution_count": null,
   "id": "376e07f2",
   "metadata": {},
   "outputs": [],
   "source": [
    "videos.columns"
   ]
  },
  {
   "cell_type": "code",
   "execution_count": null,
   "id": "c65468e4",
   "metadata": {},
   "outputs": [],
   "source": [
    "#merged_data = pd.merge(videos, features, on='video_id', how='left')"
   ]
  },
  {
   "cell_type": "code",
   "execution_count": null,
   "id": "1d2d2e8f",
   "metadata": {},
   "outputs": [],
   "source": [
    "chunk_size = 1000000  # Define an appropriate chunk size\n",
    "\n",
    "merged_chunks = []\n",
    "print(len(videos))\n",
    "for i in range(0, len(videos), chunk_size):\n",
    "    print(i)\n",
    "    videos_chunk = videos.iloc[i:i + chunk_size]\n",
    "    features_chunk = features[features['video_id'].isin(videos_chunk['video_id'])]\n",
    "    merged_chunk = pd.merge(videos_chunk, features_chunk, on='video_id', how='left')\n",
    "    merged_chunks.append(merged_chunk)\n",
    "\n",
    "merged_data = pd.concat(merged_chunks)"
   ]
  },
  {
   "cell_type": "code",
   "execution_count": null,
   "id": "006da0f1",
   "metadata": {},
   "outputs": [],
   "source": [
    "merged_data.insert(0, 'id', range(len(merged_data)))\n"
   ]
  },
  {
   "cell_type": "code",
   "execution_count": null,
   "id": "e7ea49a4",
   "metadata": {},
   "outputs": [],
   "source": [
    "import csv\n",
    "chunk_size = 1000000  # Define an appropriate chunk size\n",
    "print(len(merged_data))\n",
    "for i in range(0, len(merged_data), chunk_size):\n",
    "    print(i)\n",
    "    merged_data.iloc[i:i + chunk_size].drop_duplicates(subset='video_id', keep='first').replace({'\\r': '', '\\n': ''}, regex=True).to_csv(\n",
    "    'output.csv', \n",
    "    mode='a', \n",
    "    index=False, \n",
    "    header=(i == 0),\n",
    "    quotechar='\"', \n",
    "    escapechar=\"\\\\\",\n",
    "    encoding='utf-8',\n",
    "    quoting=csv.QUOTE_NONNUMERIC\n",
    ")"
   ]
  },
  {
   "cell_type": "code",
   "execution_count": null,
   "id": "571b2146",
   "metadata": {},
   "outputs": [],
   "source": [
    "merged_data.iloc[30615]"
   ]
  },
  {
   "cell_type": "code",
   "execution_count": null,
   "id": "232244d5",
   "metadata": {},
   "outputs": [],
   "source": [
    "merged_data.columns"
   ]
  },
  {
   "cell_type": "code",
   "execution_count": null,
   "id": "4e0a4ab0",
   "metadata": {},
   "outputs": [],
   "source": []
  },
  {
   "cell_type": "code",
   "execution_count": null,
   "id": "072efca9",
   "metadata": {},
   "outputs": [],
   "source": [
    "merged_data[merged_data['channel_title'] == 'Культура, природа и концерты']"
   ]
  }
 ],
 "metadata": {
  "kernelspec": {
   "display_name": "Python 3 (ipykernel)",
   "language": "python",
   "name": "python3"
  },
  "language_info": {
   "codemirror_mode": {
    "name": "ipython",
    "version": 3
   },
   "file_extension": ".py",
   "mimetype": "text/x-python",
   "name": "python",
   "nbconvert_exporter": "python",
   "pygments_lexer": "ipython3",
   "version": "3.8.10"
  }
 },
 "nbformat": 4,
 "nbformat_minor": 5
}
